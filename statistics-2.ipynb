{
 "cells": [
  {
   "cell_type": "code",
   "execution_count": 1,
   "id": "1562f22a-cb96-4e4e-8f5e-fe599ed8136d",
   "metadata": {},
   "outputs": [
    {
     "ename": "SyntaxError",
     "evalue": "invalid syntax (3067195324.py, line 3)",
     "output_type": "error",
     "traceback": [
      "\u001b[0;36m  Cell \u001b[0;32mIn[1], line 3\u001b[0;36m\u001b[0m\n\u001b[0;31m    The three measures of central tendency are:\u001b[0m\n\u001b[0m        ^\u001b[0m\n\u001b[0;31mSyntaxError\u001b[0m\u001b[0;31m:\u001b[0m invalid syntax\n"
     ]
    }
   ],
   "source": [
    "Q1. What are the three measures of central tendency?\n",
    "\n",
    "The three measures of central tendency are:\n",
    "\n",
    "Mean: The average value of a dataset.\n",
    "Median: The middle value of a dataset when it is arranged in order.\n",
    "Mode: The most frequently occurring value in a dataset."
   ]
  },
  {
   "cell_type": "code",
   "execution_count": 2,
   "id": "bed2219c-e1f2-4b22-86c3-7ac05c49a27f",
   "metadata": {},
   "outputs": [
    {
     "ename": "SyntaxError",
     "evalue": "invalid syntax (3310072300.py, line 3)",
     "output_type": "error",
     "traceback": [
      "\u001b[0;36m  Cell \u001b[0;32mIn[2], line 3\u001b[0;36m\u001b[0m\n\u001b[0;31m    The mean is sensitive to outliers, whereas the median is more robust. The mode is useful for categorical data or data with multiple peaks.\u001b[0m\n\u001b[0m        ^\u001b[0m\n\u001b[0;31mSyntaxError\u001b[0m\u001b[0;31m:\u001b[0m invalid syntax\n"
     ]
    }
   ],
   "source": [
    "Q2. What is the difference between the mean, median, and mode? How are they used to measure the central tendency of a dataset?\n",
    "\n",
    "The mean is sensitive to outliers, whereas the median is more robust. The mode is useful for categorical data or data with multiple peaks.\n",
    "\n",
    "Mean: Used for continuous data, sensitive to outliers.\n",
    "Median: Used for continuous data, robust to outliers.\n",
    "Mode: Used for categorical data or data with multiple peaks."
   ]
  },
  {
   "cell_type": "code",
   "execution_count": 3,
   "id": "ab7cc2e3-a588-4a10-977d-a7b24dc44560",
   "metadata": {},
   "outputs": [
    {
     "ename": "SyntaxError",
     "evalue": "invalid syntax (3058319743.py, line 1)",
     "output_type": "error",
     "traceback": [
      "\u001b[0;36m  Cell \u001b[0;32mIn[3], line 1\u001b[0;36m\u001b[0m\n\u001b[0;31m    Q3. Measure the three measures of central tendency for the given height data:\u001b[0m\n\u001b[0m                ^\u001b[0m\n\u001b[0;31mSyntaxError\u001b[0m\u001b[0;31m:\u001b[0m invalid syntax\n"
     ]
    }
   ],
   "source": [
    "Q3. Measure the three measures of central tendency for the given height data:\n",
    "\n",
    "[178,177,176,177,178.2,178,175,179,180,175,178.9,176.2,177,172.5,178,176.5]\n",
    "\n",
    "Mean: 177.33\n",
    "Median: 177.5\n",
    "Mode: 177 (since it occurs three times)"
   ]
  },
  {
   "cell_type": "code",
   "execution_count": 4,
   "id": "1a4ff10b-6591-41c9-9dd6-a28f4d5ffe2b",
   "metadata": {},
   "outputs": [
    {
     "ename": "SyntaxError",
     "evalue": "invalid syntax (337735728.py, line 1)",
     "output_type": "error",
     "traceback": [
      "\u001b[0;36m  Cell \u001b[0;32mIn[4], line 1\u001b[0;36m\u001b[0m\n\u001b[0;31m    Q4. Find the standard deviation for the given data:\u001b[0m\n\u001b[0m             ^\u001b[0m\n\u001b[0;31mSyntaxError\u001b[0m\u001b[0;31m:\u001b[0m invalid syntax\n"
     ]
    }
   ],
   "source": [
    "Q4. Find the standard deviation for the given data:\n",
    "\n",
    "[178,177,176,177,178.2,178,175,179,180,175,178.9,176.2,177,172.5,178,176.5]\n",
    "\n",
    "Standard Deviation: 2.43"
   ]
  },
  {
   "cell_type": "code",
   "execution_count": 5,
   "id": "43424229-8bab-4320-86b0-d664a4ee89d9",
   "metadata": {},
   "outputs": [
    {
     "ename": "SyntaxError",
     "evalue": "invalid syntax (3128078262.py, line 1)",
     "output_type": "error",
     "traceback": [
      "\u001b[0;36m  Cell \u001b[0;32mIn[5], line 1\u001b[0;36m\u001b[0m\n\u001b[0;31m    Q5. How are measures of dispersion such as range, variance, and standard deviation used to describe the spread of a dataset? Provide an example.\u001b[0m\n\u001b[0m            ^\u001b[0m\n\u001b[0;31mSyntaxError\u001b[0m\u001b[0;31m:\u001b[0m invalid syntax\n"
     ]
    }
   ],
   "source": [
    "Q5. How are measures of dispersion such as range, variance, and standard deviation used to describe the spread of a dataset? Provide an example.\n",
    "\n",
    "Measures of dispersion describe the spread of a dataset. The range is the difference between the maximum and minimum values. Variance is the average of the squared differences from the mean. Standard deviation is the square root of the variance.\n",
    "\n",
    "Example: For the height data, the range is 7.5 (180 - 172.5), variance is 5.83, and standard deviation is 2.43."
   ]
  },
  {
   "cell_type": "code",
   "execution_count": 6,
   "id": "37f1c94c-1db6-4341-bab6-f8a6ac2bb2b9",
   "metadata": {},
   "outputs": [
    {
     "ename": "SyntaxError",
     "evalue": "invalid syntax (3999775033.py, line 3)",
     "output_type": "error",
     "traceback": [
      "\u001b[0;36m  Cell \u001b[0;32mIn[6], line 3\u001b[0;36m\u001b[0m\n\u001b[0;31m    A Venn diagram is a graphical representation of sets and their relationships, using overlapping circles to show the intersection and union of sets.\u001b[0m\n\u001b[0m      ^\u001b[0m\n\u001b[0;31mSyntaxError\u001b[0m\u001b[0;31m:\u001b[0m invalid syntax\n"
     ]
    }
   ],
   "source": [
    "Q6. What is a Venn diagram?\n",
    "\n",
    "A Venn diagram is a graphical representation of sets and their relationships, using overlapping circles to show the intersection and union of sets."
   ]
  },
  {
   "cell_type": "code",
   "execution_count": 7,
   "id": "3943b3ef-ce50-4f76-8927-d30f10f6314e",
   "metadata": {},
   "outputs": [
    {
     "ename": "SyntaxError",
     "evalue": "invalid character '∩' (U+2229) (1752203385.py, line 3)",
     "output_type": "error",
     "traceback": [
      "\u001b[0;36m  Cell \u001b[0;32mIn[7], line 3\u001b[0;36m\u001b[0m\n\u001b[0;31m    (i) A ∩ B: (2, 6) (ii) A ∪ B: (0, 2, 3, 4, 5, 6, 7, 8, 10)\u001b[0m\n\u001b[0m          ^\u001b[0m\n\u001b[0;31mSyntaxError\u001b[0m\u001b[0;31m:\u001b[0m invalid character '∩' (U+2229)\n"
     ]
    }
   ],
   "source": [
    "Q7. For the two given sets A = (2,3,4,5,6,7) & B = (0,2,6,8,10). Find:\n",
    "\n",
    "(i) A ∩ B: (2, 6) (ii) A ∪ B: (0, 2, 3, 4, 5, 6, 7, 8, 10)"
   ]
  },
  {
   "cell_type": "code",
   "execution_count": 8,
   "id": "d1053a75-7e13-4166-bb1e-d0b72db8f186",
   "metadata": {},
   "outputs": [
    {
     "ename": "SyntaxError",
     "evalue": "invalid syntax (714163705.py, line 3)",
     "output_type": "error",
     "traceback": [
      "\u001b[0;36m  Cell \u001b[0;32mIn[8], line 3\u001b[0;36m\u001b[0m\n\u001b[0;31m    Skewness refers to the asymmetry of a distribution, where the data is not evenly distributed around the mean. A skewed distribution can be right-skewed (tail on the right) or left-skewed (tail on the left).\u001b[0m\n\u001b[0m             ^\u001b[0m\n\u001b[0;31mSyntaxError\u001b[0m\u001b[0;31m:\u001b[0m invalid syntax\n"
     ]
    }
   ],
   "source": [
    "Q8. What do you understand about skewness in data?\n",
    "\n",
    "Skewness refers to the asymmetry of a distribution, where the data is not evenly distributed around the mean. A skewed distribution can be right-skewed (tail on the right) or left-skewed (tail on the left)."
   ]
  },
  {
   "cell_type": "code",
   "execution_count": 9,
   "id": "09c3f264-628d-4c83-9691-fadd88ebd3f8",
   "metadata": {},
   "outputs": [
    {
     "ename": "SyntaxError",
     "evalue": "invalid syntax (3012651670.py, line 3)",
     "output_type": "error",
     "traceback": [
      "\u001b[0;36m  Cell \u001b[0;32mIn[9], line 3\u001b[0;36m\u001b[0m\n\u001b[0;31m    In a right-skewed distribution, the median is typically less than the mean.\u001b[0m\n\u001b[0m       ^\u001b[0m\n\u001b[0;31mSyntaxError\u001b[0m\u001b[0;31m:\u001b[0m invalid syntax\n"
     ]
    }
   ],
   "source": [
    "Q9. If a data is right skewed then what will be the position of median with respect to mean?\n",
    "\n",
    "In a right-skewed distribution, the median is typically less than the mean."
   ]
  },
  {
   "cell_type": "code",
   "execution_count": null,
   "id": "5aa52939-0a9e-4b6c-b0ce-817507af1cf7",
   "metadata": {},
   "outputs": [],
   "source": [
    "Q10. Explain the difference between covariance and correlation. How are these measures used in statistical analysis?\n",
    "\n",
    "Covariance measures the linear relationship between two variables, while correlation is a standardized measure of covariance, ranging from -1 to 1.\n",
    "\n",
    "Covariance and correlation are used to analyze the relationship between variables, identify patterns, and make predictions."
   ]
  }
 ],
 "metadata": {
  "kernelspec": {
   "display_name": "Python 3 (ipykernel)",
   "language": "python",
   "name": "python3"
  },
  "language_info": {
   "codemirror_mode": {
    "name": "ipython",
    "version": 3
   },
   "file_extension": ".py",
   "mimetype": "text/x-python",
   "name": "python",
   "nbconvert_exporter": "python",
   "pygments_lexer": "ipython3",
   "version": "3.10.8"
  }
 },
 "nbformat": 4,
 "nbformat_minor": 5
}
